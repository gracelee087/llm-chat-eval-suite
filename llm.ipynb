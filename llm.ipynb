{
 "cells": [
  {
   "cell_type": "markdown",
   "metadata": {},
   "source": [
    "# 1. 패키지 설치"
   ]
  },
  {
   "cell_type": "code",
   "execution_count": 1,
   "metadata": {},
   "outputs": [
    {
     "name": "stdout",
     "output_type": "stream",
     "text": [
      "Requirement already satisfied: langchain in c:\\users\\honor\\spicedacademy\\school\\llm-chat-eval-suite\\.venv\\lib\\site-packages (0.3.27)\n",
      "Requirement already satisfied: langchain-core in c:\\users\\honor\\spicedacademy\\school\\llm-chat-eval-suite\\.venv\\lib\\site-packages (0.3.76)\n",
      "Requirement already satisfied: langchain-community in c:\\users\\honor\\spicedacademy\\school\\llm-chat-eval-suite\\.venv\\lib\\site-packages (0.3.29)\n",
      "Requirement already satisfied: langchain-text-splitters in c:\\users\\honor\\spicedacademy\\school\\llm-chat-eval-suite\\.venv\\lib\\site-packages (0.3.11)\n",
      "Requirement already satisfied: langchain-openai in c:\\users\\honor\\spicedacademy\\school\\llm-chat-eval-suite\\.venv\\lib\\site-packages (0.3.33)\n",
      "Requirement already satisfied: langchain-pinecone in c:\\users\\honor\\spicedacademy\\school\\llm-chat-eval-suite\\.venv\\lib\\site-packages (0.2.12)\n",
      "Requirement already satisfied: docx2txt in c:\\users\\honor\\spicedacademy\\school\\llm-chat-eval-suite\\.venv\\lib\\site-packages (0.9)\n",
      "Requirement already satisfied: langsmith>=0.1.17 in c:\\users\\honor\\spicedacademy\\school\\llm-chat-eval-suite\\.venv\\lib\\site-packages (from langchain) (0.4.27)\n",
      "Requirement already satisfied: pydantic<3.0.0,>=2.7.4 in c:\\users\\honor\\spicedacademy\\school\\llm-chat-eval-suite\\.venv\\lib\\site-packages (from langchain) (2.11.9)\n",
      "Requirement already satisfied: SQLAlchemy<3,>=1.4 in c:\\users\\honor\\spicedacademy\\school\\llm-chat-eval-suite\\.venv\\lib\\site-packages (from langchain) (2.0.43)\n",
      "Requirement already satisfied: requests<3,>=2 in c:\\users\\honor\\spicedacademy\\school\\llm-chat-eval-suite\\.venv\\lib\\site-packages (from langchain) (2.32.5)\n",
      "Requirement already satisfied: PyYAML>=5.3 in c:\\users\\honor\\spicedacademy\\school\\llm-chat-eval-suite\\.venv\\lib\\site-packages (from langchain) (6.0.2)\n",
      "Requirement already satisfied: tenacity!=8.4.0,<10.0.0,>=8.1.0 in c:\\users\\honor\\spicedacademy\\school\\llm-chat-eval-suite\\.venv\\lib\\site-packages (from langchain-core) (9.1.2)\n",
      "Requirement already satisfied: jsonpatch<2.0,>=1.33 in c:\\users\\honor\\spicedacademy\\school\\llm-chat-eval-suite\\.venv\\lib\\site-packages (from langchain-core) (1.33)\n",
      "Requirement already satisfied: typing-extensions>=4.7 in c:\\users\\honor\\spicedacademy\\school\\llm-chat-eval-suite\\.venv\\lib\\site-packages (from langchain-core) (4.15.0)\n",
      "Requirement already satisfied: packaging>=23.2 in c:\\users\\honor\\spicedacademy\\school\\llm-chat-eval-suite\\.venv\\lib\\site-packages (from langchain-core) (24.2)\n",
      "Requirement already satisfied: aiohttp<4.0.0,>=3.8.3 in c:\\users\\honor\\spicedacademy\\school\\llm-chat-eval-suite\\.venv\\lib\\site-packages (from langchain-community) (3.12.15)\n",
      "Requirement already satisfied: dataclasses-json<0.7,>=0.6.7 in c:\\users\\honor\\spicedacademy\\school\\llm-chat-eval-suite\\.venv\\lib\\site-packages (from langchain-community) (0.6.7)\n",
      "Requirement already satisfied: pydantic-settings<3.0.0,>=2.10.1 in c:\\users\\honor\\spicedacademy\\school\\llm-chat-eval-suite\\.venv\\lib\\site-packages (from langchain-community) (2.10.1)\n",
      "Requirement already satisfied: httpx-sse<1.0.0,>=0.4.0 in c:\\users\\honor\\spicedacademy\\school\\llm-chat-eval-suite\\.venv\\lib\\site-packages (from langchain-community) (0.4.1)\n",
      "Requirement already satisfied: numpy>=1.26.2 in c:\\users\\honor\\spicedacademy\\school\\llm-chat-eval-suite\\.venv\\lib\\site-packages (from langchain-community) (2.3.3)\n",
      "Requirement already satisfied: openai<2.0.0,>=1.104.2 in c:\\users\\honor\\spicedacademy\\school\\llm-chat-eval-suite\\.venv\\lib\\site-packages (from langchain-openai) (1.107.2)\n",
      "Requirement already satisfied: tiktoken<1,>=0.7 in c:\\users\\honor\\spicedacademy\\school\\llm-chat-eval-suite\\.venv\\lib\\site-packages (from langchain-openai) (0.11.0)\n",
      "Requirement already satisfied: pinecone[asyncio]<8.0.0,>=6.0.0 in c:\\users\\honor\\spicedacademy\\school\\llm-chat-eval-suite\\.venv\\lib\\site-packages (from langchain-pinecone) (7.3.0)\n",
      "Requirement already satisfied: httpx>=0.28.0 in c:\\users\\honor\\spicedacademy\\school\\llm-chat-eval-suite\\.venv\\lib\\site-packages (from langchain-pinecone) (0.28.1)\n",
      "Requirement already satisfied: simsimd>=5.9.11 in c:\\users\\honor\\spicedacademy\\school\\llm-chat-eval-suite\\.venv\\lib\\site-packages (from langchain-pinecone) (6.5.3)\n",
      "Requirement already satisfied: aiohappyeyeballs>=2.5.0 in c:\\users\\honor\\spicedacademy\\school\\llm-chat-eval-suite\\.venv\\lib\\site-packages (from aiohttp<4.0.0,>=3.8.3->langchain-community) (2.6.1)\n",
      "Requirement already satisfied: aiosignal>=1.4.0 in c:\\users\\honor\\spicedacademy\\school\\llm-chat-eval-suite\\.venv\\lib\\site-packages (from aiohttp<4.0.0,>=3.8.3->langchain-community) (1.4.0)\n",
      "Requirement already satisfied: attrs>=17.3.0 in c:\\users\\honor\\spicedacademy\\school\\llm-chat-eval-suite\\.venv\\lib\\site-packages (from aiohttp<4.0.0,>=3.8.3->langchain-community) (25.3.0)\n",
      "Requirement already satisfied: frozenlist>=1.1.1 in c:\\users\\honor\\spicedacademy\\school\\llm-chat-eval-suite\\.venv\\lib\\site-packages (from aiohttp<4.0.0,>=3.8.3->langchain-community) (1.7.0)\n",
      "Requirement already satisfied: multidict<7.0,>=4.5 in c:\\users\\honor\\spicedacademy\\school\\llm-chat-eval-suite\\.venv\\lib\\site-packages (from aiohttp<4.0.0,>=3.8.3->langchain-community) (6.6.4)\n",
      "Requirement already satisfied: propcache>=0.2.0 in c:\\users\\honor\\spicedacademy\\school\\llm-chat-eval-suite\\.venv\\lib\\site-packages (from aiohttp<4.0.0,>=3.8.3->langchain-community) (0.3.2)\n",
      "Requirement already satisfied: yarl<2.0,>=1.17.0 in c:\\users\\honor\\spicedacademy\\school\\llm-chat-eval-suite\\.venv\\lib\\site-packages (from aiohttp<4.0.0,>=3.8.3->langchain-community) (1.20.1)\n",
      "Requirement already satisfied: marshmallow<4.0.0,>=3.18.0 in c:\\users\\honor\\spicedacademy\\school\\llm-chat-eval-suite\\.venv\\lib\\site-packages (from dataclasses-json<0.7,>=0.6.7->langchain-community) (3.26.1)\n",
      "Requirement already satisfied: typing-inspect<1,>=0.4.0 in c:\\users\\honor\\spicedacademy\\school\\llm-chat-eval-suite\\.venv\\lib\\site-packages (from dataclasses-json<0.7,>=0.6.7->langchain-community) (0.9.0)\n",
      "Requirement already satisfied: anyio in c:\\users\\honor\\spicedacademy\\school\\llm-chat-eval-suite\\.venv\\lib\\site-packages (from httpx>=0.28.0->langchain-pinecone) (4.10.0)\n",
      "Requirement already satisfied: certifi in c:\\users\\honor\\spicedacademy\\school\\llm-chat-eval-suite\\.venv\\lib\\site-packages (from httpx>=0.28.0->langchain-pinecone) (2025.8.3)\n",
      "Requirement already satisfied: httpcore==1.* in c:\\users\\honor\\spicedacademy\\school\\llm-chat-eval-suite\\.venv\\lib\\site-packages (from httpx>=0.28.0->langchain-pinecone) (1.0.9)\n",
      "Requirement already satisfied: idna in c:\\users\\honor\\spicedacademy\\school\\llm-chat-eval-suite\\.venv\\lib\\site-packages (from httpx>=0.28.0->langchain-pinecone) (3.10)\n",
      "Requirement already satisfied: h11>=0.16 in c:\\users\\honor\\spicedacademy\\school\\llm-chat-eval-suite\\.venv\\lib\\site-packages (from httpcore==1.*->httpx>=0.28.0->langchain-pinecone) (0.16.0)\n",
      "Requirement already satisfied: jsonpointer>=1.9 in c:\\users\\honor\\spicedacademy\\school\\llm-chat-eval-suite\\.venv\\lib\\site-packages (from jsonpatch<2.0,>=1.33->langchain-core) (3.0.0)\n",
      "Requirement already satisfied: orjson>=3.9.14 in c:\\users\\honor\\spicedacademy\\school\\llm-chat-eval-suite\\.venv\\lib\\site-packages (from langsmith>=0.1.17->langchain) (3.11.3)\n",
      "Requirement already satisfied: requests-toolbelt>=1.0.0 in c:\\users\\honor\\spicedacademy\\school\\llm-chat-eval-suite\\.venv\\lib\\site-packages (from langsmith>=0.1.17->langchain) (1.0.0)\n",
      "Requirement already satisfied: zstandard>=0.23.0 in c:\\users\\honor\\spicedacademy\\school\\llm-chat-eval-suite\\.venv\\lib\\site-packages (from langsmith>=0.1.17->langchain) (0.24.0)\n",
      "Requirement already satisfied: distro<2,>=1.7.0 in c:\\users\\honor\\spicedacademy\\school\\llm-chat-eval-suite\\.venv\\lib\\site-packages (from openai<2.0.0,>=1.104.2->langchain-openai) (1.9.0)\n",
      "Requirement already satisfied: jiter<1,>=0.4.0 in c:\\users\\honor\\spicedacademy\\school\\llm-chat-eval-suite\\.venv\\lib\\site-packages (from openai<2.0.0,>=1.104.2->langchain-openai) (0.10.0)\n",
      "Requirement already satisfied: sniffio in c:\\users\\honor\\spicedacademy\\school\\llm-chat-eval-suite\\.venv\\lib\\site-packages (from openai<2.0.0,>=1.104.2->langchain-openai) (1.3.1)\n",
      "Requirement already satisfied: tqdm>4 in c:\\users\\honor\\spicedacademy\\school\\llm-chat-eval-suite\\.venv\\lib\\site-packages (from openai<2.0.0,>=1.104.2->langchain-openai) (4.67.1)\n",
      "Requirement already satisfied: aiohttp-retry<3.0.0,>=2.9.1 in c:\\users\\honor\\spicedacademy\\school\\llm-chat-eval-suite\\.venv\\lib\\site-packages (from pinecone[asyncio]<8.0.0,>=6.0.0->langchain-pinecone) (2.9.1)\n",
      "Requirement already satisfied: pinecone-plugin-assistant<2.0.0,>=1.6.0 in c:\\users\\honor\\spicedacademy\\school\\llm-chat-eval-suite\\.venv\\lib\\site-packages (from pinecone[asyncio]<8.0.0,>=6.0.0->langchain-pinecone) (1.8.0)\n",
      "Requirement already satisfied: pinecone-plugin-interface<0.0.8,>=0.0.7 in c:\\users\\honor\\spicedacademy\\school\\llm-chat-eval-suite\\.venv\\lib\\site-packages (from pinecone[asyncio]<8.0.0,>=6.0.0->langchain-pinecone) (0.0.7)\n",
      "Requirement already satisfied: python-dateutil>=2.5.3 in c:\\users\\honor\\spicedacademy\\school\\llm-chat-eval-suite\\.venv\\lib\\site-packages (from pinecone[asyncio]<8.0.0,>=6.0.0->langchain-pinecone) (2.9.0.post0)\n",
      "Requirement already satisfied: urllib3>=1.26.0 in c:\\users\\honor\\spicedacademy\\school\\llm-chat-eval-suite\\.venv\\lib\\site-packages (from pinecone[asyncio]<8.0.0,>=6.0.0->langchain-pinecone) (2.5.0)\n",
      "Requirement already satisfied: annotated-types>=0.6.0 in c:\\users\\honor\\spicedacademy\\school\\llm-chat-eval-suite\\.venv\\lib\\site-packages (from pydantic<3.0.0,>=2.7.4->langchain) (0.7.0)\n",
      "Requirement already satisfied: pydantic-core==2.33.2 in c:\\users\\honor\\spicedacademy\\school\\llm-chat-eval-suite\\.venv\\lib\\site-packages (from pydantic<3.0.0,>=2.7.4->langchain) (2.33.2)\n",
      "Requirement already satisfied: typing-inspection>=0.4.0 in c:\\users\\honor\\spicedacademy\\school\\llm-chat-eval-suite\\.venv\\lib\\site-packages (from pydantic<3.0.0,>=2.7.4->langchain) (0.4.1)\n",
      "Requirement already satisfied: python-dotenv>=0.21.0 in c:\\users\\honor\\spicedacademy\\school\\llm-chat-eval-suite\\.venv\\lib\\site-packages (from pydantic-settings<3.0.0,>=2.10.1->langchain-community) (1.1.1)\n",
      "Requirement already satisfied: charset_normalizer<4,>=2 in c:\\users\\honor\\spicedacademy\\school\\llm-chat-eval-suite\\.venv\\lib\\site-packages (from requests<3,>=2->langchain) (3.4.3)\n",
      "Requirement already satisfied: greenlet>=1 in c:\\users\\honor\\spicedacademy\\school\\llm-chat-eval-suite\\.venv\\lib\\site-packages (from SQLAlchemy<3,>=1.4->langchain) (3.2.4)\n",
      "Requirement already satisfied: regex>=2022.1.18 in c:\\users\\honor\\spicedacademy\\school\\llm-chat-eval-suite\\.venv\\lib\\site-packages (from tiktoken<1,>=0.7->langchain-openai) (2025.9.1)\n",
      "Requirement already satisfied: six>=1.5 in c:\\users\\honor\\spicedacademy\\school\\llm-chat-eval-suite\\.venv\\lib\\site-packages (from python-dateutil>=2.5.3->pinecone[asyncio]<8.0.0,>=6.0.0->langchain-pinecone) (1.17.0)\n",
      "Requirement already satisfied: colorama in c:\\users\\honor\\spicedacademy\\school\\llm-chat-eval-suite\\.venv\\lib\\site-packages (from tqdm>4->openai<2.0.0,>=1.104.2->langchain-openai) (0.4.6)\n",
      "Requirement already satisfied: mypy-extensions>=0.3.0 in c:\\users\\honor\\spicedacademy\\school\\llm-chat-eval-suite\\.venv\\lib\\site-packages (from typing-inspect<1,>=0.4.0->dataclasses-json<0.7,>=0.6.7->langchain-community) (1.1.0)\n",
      "Note: you may need to restart the kernel to use updated packages.\n"
     ]
    },
    {
     "name": "stderr",
     "output_type": "stream",
     "text": [
      "\n",
      "[notice] A new release of pip available: 22.3.1 -> 25.2\n",
      "[notice] To update, run: python.exe -m pip install --upgrade pip\n"
     ]
    }
   ],
   "source": [
    "%pip install langchain langchain-core langchain-community langchain-text-splitters langchain-openai langchain-pinecone docx2txt"
   ]
  },
  {
   "cell_type": "markdown",
   "metadata": {},
   "source": [
    "# 2. Knowledge Base 구성을 위한 데이터 생성\n",
    "\n",
    "- Chroma를 활용한 [3.2 LangChain과 Chroma를 활용한 RAG 구성](https://github.com/jasonkang14/inflearn-rag-notebook/blob/main/3.2%20LangChain%EA%B3%BC%20Chroma%EB%A5%BC%20%ED%99%9C%EC%9A%A9%ED%95%9C%20RAG%20%EA%B5%AC%EC%84%B1.ipynb)과 동일함\n",
    "- Vector Database만 [Pinecone](https://www.pinecone.io/)으로 변경"
   ]
  },
  {
   "cell_type": "code",
   "execution_count": 12,
   "metadata": {},
   "outputs": [],
   "source": [
    "from dotenv import load_dotenv"
   ]
  },
  {
   "cell_type": "code",
   "execution_count": 13,
   "metadata": {},
   "outputs": [],
   "source": [
    "from langchain_community.document_loaders import Docx2txtLoader\n",
    "from langchain_text_splitters import RecursiveCharacterTextSplitter\n",
    "\n",
    "text_splitter = RecursiveCharacterTextSplitter(\n",
    "    chunk_size=1500,\n",
    "    chunk_overlap=200,\n",
    ")\n",
    "\n",
    "loader = Docx2txtLoader('./Guide.docx')\n",
    "document_list = loader.load_and_split(text_splitter=text_splitter)"
   ]
  },
  {
   "cell_type": "code",
   "execution_count": 7,
   "metadata": {},
   "outputs": [
    {
     "data": {
      "text/plain": [
       "Document(metadata={'source': './Guide.docx'}, page_content=\"Page 10: 8. Glossary of Key Terms\\n\\n8.1 Common Financial Terminology\\n\\n8.2 Document Control & Revisions\\n\\n\\n\\n1. Introduction to Financial Analysis\\n\\n1.1 Purpose of the Guide\\n\\nWelcome to the Financial Analyst's Guide. This document is designed to be a quick reference for all analysts at Unity Financial Group. Its purpose is to standardize our analytical approach, provide a quick overview of key metrics, and serve as a reliable source for internal reporting standards. By following this guide, you ensure the accuracy and consistency of all financial analysis within our organization.\\n\\n1.2 Our Core Analytical Principles\\n\\nOur analysis is based on three core principles: Accuracy, Clarity, and Timeliness.\\n\\nAccuracy: All data must be sourced from approved databases and verified against official company reports.\\n\\nClarity: Analytical findings should be presented in a clear, concise manner, free of unnecessary jargon.\\n\\nTimeliness: Analysis must be completed within the specified deadlines to support critical business decisions.\\n\\n\\n\\n2. Key Financial Ratios Quick Guide\\n\\n2.1 Liquidity Ratios\\n\\nCurrent Ratio: Measures a company's ability to pay short-term obligations.\\n\\nFormula: Current Assets / Current Liabilities\\n\\nInterpretation: A ratio of 2.0 or higher is generally considered healthy.\\n\\nQuick Ratio (Acid-Test Ratio): Similar to the current ratio but excludes inventory.\\n\\nFormula: (Current Assets - Inventories) / Current Liabilities\")"
      ]
     },
     "execution_count": 7,
     "metadata": {},
     "output_type": "execute_result"
    }
   ],
   "source": [
    "document_list[1]"
   ]
  },
  {
   "cell_type": "code",
   "execution_count": 14,
   "metadata": {},
   "outputs": [],
   "source": [
    "from dotenv import load_dotenv\n",
    "from langchain_openai import OpenAIEmbeddings\n",
    "\n",
    "load_dotenv()\n",
    "\n",
    "embedding = OpenAIEmbeddings(model='text-embedding-3-large')"
   ]
  },
  {
   "cell_type": "code",
   "execution_count": 15,
   "metadata": {},
   "outputs": [],
   "source": [
    "import os\n",
    "\n",
    "from pinecone import Pinecone\n",
    "from langchain_pinecone import PineconeVectorStore\n",
    "\n",
    "index_name = 'guide-index'\n",
    "pinecone_api_key = os.environ.get(\"PINECONE_API_KEY\")\n",
    "pc = Pinecone(api_key=pinecone_api_key)\n",
    "\n",
    "\n",
    "database = PineconeVectorStore.from_documents(document_list, embedding, index_name=index_name)"
   ]
  },
  {
   "cell_type": "code",
   "execution_count": null,
   "metadata": {},
   "outputs": [],
   "source": [
    "# query = 'What does it mean if the current ratio is 1.75?'"
   ]
  },
  {
   "cell_type": "markdown",
   "metadata": {},
   "source": [
    "# 3. 답변 생성을 위한 Retrieval\n",
    "\n",
    "- `RetrievalQA`에 전달하기 위해 `retriever` 생성 / 쉽게 말하면, **\"답변에 참고할 자료를 찾아주는 검색기\"**라고 이해하면 됩니다.\n",
    "- `search_kwargs` 의 `k` 값을 변경해서 가져올 문서의 갯수를 지정할 수 있음 /너무 적게 잡으면 정보가 부족할 수 있고, 너무 많으면 불필요한 내용이 포함될 수 있습니다.\n",
    "- `.invoke()` 를 호출해서 어떤 문서를 가져오는지 확인 가능 /쉽게 말하면 \"실제로 검색해보고 결과를 확인하는 버튼\" 같은 역할입니다."
   ]
  },
  {
   "cell_type": "code",
   "execution_count": null,
   "metadata": {},
   "outputs": [
    {
     "data": {
      "text/plain": [
       "[Document(id='a732bfa3-7235-415f-8026-a191ec3e872f', metadata={'source': './Guide.docx'}, page_content=\"Quick Ratio (Acid-Test Ratio): Similar to the current ratio but excludes inventory.\\n\\nFormula: (Current Assets - Inventories) / Current Liabilities\\n\\nInterpretation: A ratio above 1.0 suggests a strong ability to meet immediate liabilities.\\n\\n2.2 Profitability Ratios\\n\\nNet Profit Margin: Indicates how much net income is generated as a percentage of revenue.\\n\\nFormula: Net Income / Revenue\\n\\nInterpretation: A higher percentage indicates better profitability.\\n\\nReturn on Equity (ROE): Measures the profitability in relation to shareholder equity.\\n\\nFormula: Net Income / Shareholder's Equity\\n\\nInterpretation: ROE indicates how effectively management is using shareholder funds to generate profit.\\n\\n\\n\\n3. Market Risk Analysis Framework\\n\\n3.1 Understanding Market Risk\\n\\nMarket risk is the possibility of losses in an investment due to factors that affect the overall performance of financial markets. It includes risks related to stock prices, interest rates, and foreign exchange rates.\\n\\n3.2 Key Indicators to Monitor\\n\\nInterest Rate Fluctuations: Changes in interest rates can impact the value of bonds and loans.\\n\\nCurrency Exchange Rates: Volatility in exchange rates can affect the value of international investments and revenue streams.\\n\\nStock Market Volatility (VIX): The Volatility Index (VIX) is a key indicator of market uncertainty and risk.\\n\\n\\n\\n\\n\\n4. Sample Quarterly Report Summary\\n\\n4.1 Overview of Q3 2025 Performance\"),\n",
       " Document(id='956ff606-ca3c-4f35-9014-99bda6981f2d', metadata={'source': './Guide.docx'}, page_content=\"Page 10: 8. Glossary of Key Terms\\n\\n8.1 Common Financial Terminology\\n\\n8.2 Document Control & Revisions\\n\\n\\n\\n1. Introduction to Financial Analysis\\n\\n1.1 Purpose of the Guide\\n\\nWelcome to the Financial Analyst's Guide. This document is designed to be a quick reference for all analysts at Unity Financial Group. Its purpose is to standardize our analytical approach, provide a quick overview of key metrics, and serve as a reliable source for internal reporting standards. By following this guide, you ensure the accuracy and consistency of all financial analysis within our organization.\\n\\n1.2 Our Core Analytical Principles\\n\\nOur analysis is based on three core principles: Accuracy, Clarity, and Timeliness.\\n\\nAccuracy: All data must be sourced from approved databases and verified against official company reports.\\n\\nClarity: Analytical findings should be presented in a clear, concise manner, free of unnecessary jargon.\\n\\nTimeliness: Analysis must be completed within the specified deadlines to support critical business decisions.\\n\\n\\n\\n2. Key Financial Ratios Quick Guide\\n\\n2.1 Liquidity Ratios\\n\\nCurrent Ratio: Measures a company's ability to pay short-term obligations.\\n\\nFormula: Current Assets / Current Liabilities\\n\\nInterpretation: A ratio of 2.0 or higher is generally considered healthy.\\n\\nQuick Ratio (Acid-Test Ratio): Similar to the current ratio but excludes inventory.\\n\\nFormula: (Current Assets - Inventories) / Current Liabilities\"),\n",
       " Document(id='420a69ec-9550-4136-ad70-673aa41f9eab', metadata={'source': './Guide.docx'}, page_content=\"Unity Financial Group - Financial Analyst's Guide & Report Summary\\n\\n\\n\\n\\n\\nVersion: 1.0 Date: October 1, 2025\\n\\n\\n\\nTable of Contents\\n\\nPage 1: Title Page\\n\\nPage 2: Table of Contents\\n\\nPage 3: 1. Introduction to Financial Analysis\\n\\n1.1 Purpose of the Guide\\n\\n1.2 Our Core Analytical Principles\\n\\nPage 4: 2. Key Financial Ratios Quick Guide\\n\\n2.1 Liquidity Ratios (Current Ratio, Quick Ratio)\\n\\n2.2 Profitability Ratios (Net Profit Margin, ROE)\\n\\nPage 5: 3. Market Risk Analysis Framework\\n\\n3.1 Understanding Market Risk\\n\\n3.2 Key Indicators to Monitor\\n\\nPage 6: 4. Sample Quarterly Report Summary\\n\\n4.1 Overview of Q3 2025 Performance\\n\\n4.2 Revenue & Profitability Highlights\\n\\nPage 7: 5. Balance Sheet & Cash Flow Summary\\n\\n5.1 Key Balance Sheet Metrics\\n\\n5.2 Statement of Cash Flows Analysis\\n\\nPage 8: 6. Financial Reporting Standards & Compliance\\n\\n6.1 Adherence to IFRS/GAAP\\n\\n6.2 Internal Reporting Mandates\\n\\nPage 9: 7. Approved Data Sources & Tools\\n\\n7.1 Internal Databases (FinHub, Databank)\\n\\n7.2 External Feeds (Bloomberg, Reuters)\\n\\nPage 10: 8. Glossary of Key Terms\\n\\n8.1 Common Financial Terminology\\n\\n8.2 Document Control & Revisions\\n\\n\\n\\n1. Introduction to Financial Analysis\\n\\n1.1 Purpose of the Guide\"),\n",
       " Document(id='c746c070-f823-441f-a445-be8005b30d9b', metadata={'source': './Guide.docx'}, page_content=\"Stock Market Volatility (VIX): The Volatility Index (VIX) is a key indicator of market uncertainty and risk.\\n\\n\\n\\n\\n\\n4. Sample Quarterly Report Summary\\n\\n4.1 Overview of Q3 2025 Performance\\n\\nUnity Financial Group's Q3 2025 performance was marked by strong growth in core banking services and a significant increase in digital product adoption. The company's focus on cost-efficiency resulted in improved profitability.\\n\\nKey Message: Strong revenue growth and improved profitability driven by digital innovation.\\n\\n4.2 Revenue & Profitability Highlights\\n\\nTotal Revenue: Grew to $550 million, a 12% increase from Q3 2024.\\n\\nNet Income: Rose to $125 million, a 15% increase year-over-year.\\n\\nEarnings Per Share (EPS): Recorded at $1.12, up from $0.97 in the previous year.\\n\\nNet Profit Margin: Improved to 22.7%, up from 22.1% in Q3 2024.\\n\\n\\n\\n5. Balance Sheet & Cash Flow Summary\\n\\n5.1 Key Balance Sheet Metrics\\n\\nAs of September 30, 2025:\\n\\nTotal Assets: $5.8 billion\\n\\nTotal Liabilities: $3.5 billion\\n\\nTotal Shareholder Equity: $2.3 billion\\n\\nDebt-to-Equity Ratio: 1.52, indicating a healthy financial structure.\\n\\n5.2 Statement of Cash Flows Analysis\\n\\nCash from operating activities was strong at $180 million, showing robust core business operations. Investing activities included a $25 million capital expenditure on new IT infrastructure, and financing activities saw a $30 million debt repayment.\\n\\n\\n\\n6. Financial Reporting Standards & Compliance\\n\\n6.1 Adherence to IFRS/GAAP\")]"
      ]
     },
     "execution_count": 30,
     "metadata": {},
     "output_type": "execute_result"
    }
   ],
   "source": [
    "# retriever = database.as_retriever(search_kwargs={'k': 4}) # 검색할 때 최대 4개의 문서를 가져오도록 지정합니다.\n",
    "# retriever.invoke(query)"
   ]
  },
  {
   "cell_type": "markdown",
   "metadata": {},
   "source": [
    "# 4. Augmentation을 위한 Prompt 활용\n",
    "\n",
    "- Retrieval된 데이터는 LangChain에서 제공하는 프롬프트(`\"rlm/rag-prompt\"`) 사용"
   ]
  },
  {
   "cell_type": "code",
   "execution_count": null,
   "metadata": {},
   "outputs": [],
   "source": [
    "# from langchain import hub\n",
    "\n",
    "# prompt = hub.pull(\"rlm/rag-prompt\") # 쉽게 말하면 **LLM에 전달할 “질문-답변 지침서”**를 가져온다고 생각하면 됩니다."
   ]
  },
  {
   "cell_type": "code",
   "execution_count": null,
   "metadata": {},
   "outputs": [],
   "source": [
    "# from langchain_openai import ChatOpenAI\n",
    "\n",
    "# llm = ChatOpenAI(model='gpt-4o') # 이 객체는 실제로 질문을 받아 답변을 생성하는 역할을 합니다."
   ]
  },
  {
   "cell_type": "markdown",
   "metadata": {},
   "source": [
    "# 5. 답변 생성\n",
    "\n",
    "- [RetrievalQA](https://docs.smith.langchain.com/old/cookbook/hub-examples/retrieval-qa-chain)를 통해 LLM에 전달\n",
    "    - `RetrievalQA`는 [create_retrieval_chain](https://python.langchain.com/v0.2/docs/how_to/qa_sources/#using-create_retrieval_chain)으로 대체됨\n",
    "    - 실제 ChatBot 구현 시 `create_retrieval_chain`으로 변경하는 과정을 볼 수 있음"
   ]
  },
  {
   "cell_type": "code",
   "execution_count": null,
   "metadata": {},
   "outputs": [],
   "source": [
    "# from langchain.chains import RetrievalQA\n",
    "\n",
    "\n",
    "# qa_chain = RetrievalQA.from_chain_type(\n",
    "#     llm, \n",
    "#     retriever=retriever,\n",
    "#     chain_type_kwargs={\"prompt\": prompt}\n",
    "# )\n",
    "\n",
    "# RetrievalQA.from_chain_type(...) 의미\n",
    "# llm : 질문을 답변으로 변환할 모델 지정\n",
    "# retriever : 질문과 관련된 문서를 검색하는 역할 지정\n",
    "# chain_type_kwargs={\"prompt\": prompt} : LLM에 전달할 프롬프트 템플릿 지정\n",
    "\n",
    "# 동작 과정:\n",
    "# 사용자가 질문(query)을 입력하면\n",
    "# retriever가 관련 문서를 검색 → 최대 4개(k=4)\n",
    "# 검색된 문서와 질문을 llm + prompt와 함께 전달\n",
    "# LLM이 최종 답변 생성\n",
    "\n",
    "# 즉, 이 코드는 문서 검색 + LLM 답변 생성을 하나의 체인으로 묶은 것입니다. ==> 질문 → 관련 문서 검색(retriever) → 프롬프트와 함께 LLM에게 전달 → 답변 생성\n"
   ]
  },
  {
   "cell_type": "code",
   "execution_count": null,
   "metadata": {},
   "outputs": [],
   "source": [
    "# LangChain 권장사항에 따라 강의 코드와 다르게 `.invoke()`를 사용합니다\n",
    "# ai_message = qa_chain.invoke({\"query\": query})\n",
    "\n",
    "\n",
    "# 1. qa_chain.invoke(...)\n",
    "# qa_chain는 이전에 생성한 RetrievalQA 체인입니다.\n",
    "# .invoke()는 이 체인을 실제로 실행시키는 함수입니다.\n",
    "# 즉, 체인 안의 검색(retriever) → LLM 답변 생성 과정을 한 번에 수행합니다.\n",
    "\n",
    "# 사용자 질문(query) → retriever로 관련 문서 검색 → LLM이 답변 생성 → ai_message에 저장"
   ]
  },
  {
   "cell_type": "code",
   "execution_count": null,
   "metadata": {},
   "outputs": [
    {
     "data": {
      "text/plain": [
       "{'query': 'What does it mean if the current ratio is 1.5?',\n",
       " 'result': 'A current ratio of 1.5 means that the company has $1.50 in current assets for every $1.00 in current liabilities. This suggests that the company has a reasonable ability to pay off its short-term obligations, although it is below the ideal ratio of 2.0, which is generally considered healthy.'}"
      ]
     },
     "execution_count": 27,
     "metadata": {},
     "output_type": "execute_result"
    }
   ],
   "source": [
    "# ai_message"
   ]
  }
 ],
 "metadata": {
  "kernelspec": {
   "display_name": ".venv",
   "language": "python",
   "name": "python3"
  },
  "language_info": {
   "codemirror_mode": {
    "name": "ipython",
    "version": 3
   },
   "file_extension": ".py",
   "mimetype": "text/x-python",
   "name": "python",
   "nbconvert_exporter": "python",
   "pygments_lexer": "ipython3",
   "version": "3.11.3"
  }
 },
 "nbformat": 4,
 "nbformat_minor": 2
}
